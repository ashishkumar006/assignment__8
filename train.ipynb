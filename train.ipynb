{
  "nbformat": 4,
  "nbformat_minor": 0,
  "metadata": {
    "colab": {
      "provenance": [],
      "gpuType": "T4"
    },
    "kernelspec": {
      "name": "python3",
      "display_name": "Python 3"
    },
    "language_info": {
      "name": "python"
    },
    "accelerator": "GPU"
  },
  "cells": [
    {
      "cell_type": "code",
      "execution_count": 5,
      "metadata": {
        "colab": {
          "base_uri": "https://localhost:8080/"
        },
        "id": "wNESslzKFShe",
        "outputId": "6451b908-1735-4749-8b32-3d39c91a7869"
      },
      "outputs": [
        {
          "output_type": "stream",
          "name": "stdout",
          "text": [
            "Files already downloaded and verified\n",
            "Files already downloaded and verified\n"
          ]
        },
        {
          "output_type": "stream",
          "name": "stderr",
          "text": [
            "<ipython-input-5-f3625c3c9d82>:108: FutureWarning: `torch.cuda.amp.GradScaler(args...)` is deprecated. Please use `torch.amp.GradScaler('cuda', args...)` instead.\n",
            "  scaler = GradScaler()\n",
            "  0%|          | 0/782 [00:00<?, ?it/s]<ipython-input-5-f3625c3c9d82>:43: FutureWarning: `torch.cuda.amp.autocast(args...)` is deprecated. Please use `torch.amp.autocast('cuda', args...)` instead.\n",
            "  with autocast():\n",
            "Epoch: 1 Loss: 1.6182 Acc: 37.09%: 100%|██████████| 782/782 [00:25<00:00, 30.75it/s]\n"
          ]
        },
        {
          "output_type": "stream",
          "name": "stdout",
          "text": [
            "\n",
            "Test set: Average loss: 1.4828, Accuracy: 44.95%\n",
            "\n"
          ]
        },
        {
          "output_type": "stream",
          "name": "stderr",
          "text": [
            "Epoch: 2 Loss: 1.0413 Acc: 50.91%: 100%|██████████| 782/782 [00:25<00:00, 30.24it/s]\n"
          ]
        },
        {
          "output_type": "stream",
          "name": "stdout",
          "text": [
            "\n",
            "Test set: Average loss: 1.1030, Accuracy: 60.24%\n",
            "\n"
          ]
        },
        {
          "output_type": "stream",
          "name": "stderr",
          "text": [
            "Epoch: 3 Loss: 2.0622 Acc: 56.76%: 100%|██████████| 782/782 [00:24<00:00, 31.59it/s]\n"
          ]
        },
        {
          "output_type": "stream",
          "name": "stdout",
          "text": [
            "\n",
            "Test set: Average loss: 1.4109, Accuracy: 53.88%\n",
            "\n"
          ]
        },
        {
          "output_type": "stream",
          "name": "stderr",
          "text": [
            "Epoch: 4 Loss: 0.7437 Acc: 59.81%: 100%|██████████| 782/782 [00:24<00:00, 31.77it/s]\n"
          ]
        },
        {
          "output_type": "stream",
          "name": "stdout",
          "text": [
            "\n",
            "Test set: Average loss: 0.9661, Accuracy: 65.63%\n",
            "\n"
          ]
        },
        {
          "output_type": "stream",
          "name": "stderr",
          "text": [
            "Epoch: 5 Loss: 1.1301 Acc: 62.56%: 100%|██████████| 782/782 [00:24<00:00, 32.14it/s]\n"
          ]
        },
        {
          "output_type": "stream",
          "name": "stdout",
          "text": [
            "\n",
            "Test set: Average loss: 0.9037, Accuracy: 68.43%\n",
            "\n"
          ]
        },
        {
          "output_type": "stream",
          "name": "stderr",
          "text": [
            "Epoch: 6 Loss: 0.5965 Acc: 64.87%: 100%|██████████| 782/782 [00:24<00:00, 32.11it/s]\n"
          ]
        },
        {
          "output_type": "stream",
          "name": "stdout",
          "text": [
            "\n",
            "Test set: Average loss: 0.8380, Accuracy: 71.18%\n",
            "\n"
          ]
        },
        {
          "output_type": "stream",
          "name": "stderr",
          "text": [
            "Epoch: 7 Loss: 1.0802 Acc: 66.65%: 100%|██████████| 782/782 [00:25<00:00, 31.23it/s]\n"
          ]
        },
        {
          "output_type": "stream",
          "name": "stdout",
          "text": [
            "\n",
            "Test set: Average loss: 0.7943, Accuracy: 72.33%\n",
            "\n"
          ]
        },
        {
          "output_type": "stream",
          "name": "stderr",
          "text": [
            "Epoch: 8 Loss: 1.0431 Acc: 67.95%: 100%|██████████| 782/782 [00:25<00:00, 30.88it/s]\n"
          ]
        },
        {
          "output_type": "stream",
          "name": "stdout",
          "text": [
            "\n",
            "Test set: Average loss: 0.8190, Accuracy: 71.98%\n",
            "\n"
          ]
        },
        {
          "output_type": "stream",
          "name": "stderr",
          "text": [
            "Epoch: 9 Loss: 0.9407 Acc: 68.69%: 100%|██████████| 782/782 [00:25<00:00, 30.24it/s]\n"
          ]
        },
        {
          "output_type": "stream",
          "name": "stdout",
          "text": [
            "\n",
            "Test set: Average loss: 0.7691, Accuracy: 73.41%\n",
            "\n"
          ]
        },
        {
          "output_type": "stream",
          "name": "stderr",
          "text": [
            "Epoch: 10 Loss: 0.7704 Acc: 70.36%: 100%|██████████| 782/782 [00:25<00:00, 30.12it/s]\n"
          ]
        },
        {
          "output_type": "stream",
          "name": "stdout",
          "text": [
            "\n",
            "Test set: Average loss: 0.7184, Accuracy: 75.46%\n",
            "\n"
          ]
        },
        {
          "output_type": "stream",
          "name": "stderr",
          "text": [
            "Epoch: 11 Loss: 0.9478 Acc: 71.01%: 100%|██████████| 782/782 [00:25<00:00, 30.20it/s]\n"
          ]
        },
        {
          "output_type": "stream",
          "name": "stdout",
          "text": [
            "\n",
            "Test set: Average loss: 0.6935, Accuracy: 75.54%\n",
            "\n"
          ]
        },
        {
          "output_type": "stream",
          "name": "stderr",
          "text": [
            "Epoch: 12 Loss: 0.7612 Acc: 71.91%: 100%|██████████| 782/782 [00:25<00:00, 30.15it/s]\n"
          ]
        },
        {
          "output_type": "stream",
          "name": "stdout",
          "text": [
            "\n",
            "Test set: Average loss: 0.6477, Accuracy: 77.88%\n",
            "\n"
          ]
        },
        {
          "output_type": "stream",
          "name": "stderr",
          "text": [
            "Epoch: 13 Loss: 1.2653 Acc: 72.87%: 100%|██████████| 782/782 [00:25<00:00, 30.50it/s]\n"
          ]
        },
        {
          "output_type": "stream",
          "name": "stdout",
          "text": [
            "\n",
            "Test set: Average loss: 0.6439, Accuracy: 78.31%\n",
            "\n"
          ]
        },
        {
          "output_type": "stream",
          "name": "stderr",
          "text": [
            "Epoch: 14 Loss: 0.2253 Acc: 73.46%: 100%|██████████| 782/782 [00:25<00:00, 30.37it/s]\n"
          ]
        },
        {
          "output_type": "stream",
          "name": "stdout",
          "text": [
            "\n",
            "Test set: Average loss: 0.6481, Accuracy: 77.84%\n",
            "\n"
          ]
        },
        {
          "output_type": "stream",
          "name": "stderr",
          "text": [
            "Epoch: 15 Loss: 0.4260 Acc: 73.65%: 100%|██████████| 782/782 [00:25<00:00, 30.50it/s]\n"
          ]
        },
        {
          "output_type": "stream",
          "name": "stdout",
          "text": [
            "\n",
            "Test set: Average loss: 0.5827, Accuracy: 79.64%\n",
            "\n"
          ]
        },
        {
          "output_type": "stream",
          "name": "stderr",
          "text": [
            "Epoch: 16 Loss: 1.0244 Acc: 74.40%: 100%|██████████| 782/782 [00:25<00:00, 31.21it/s]\n"
          ]
        },
        {
          "output_type": "stream",
          "name": "stdout",
          "text": [
            "\n",
            "Test set: Average loss: 0.5980, Accuracy: 79.25%\n",
            "\n"
          ]
        },
        {
          "output_type": "stream",
          "name": "stderr",
          "text": [
            "Epoch: 17 Loss: 0.8201 Acc: 74.65%: 100%|██████████| 782/782 [00:24<00:00, 31.74it/s]\n"
          ]
        },
        {
          "output_type": "stream",
          "name": "stdout",
          "text": [
            "\n",
            "Test set: Average loss: 0.5857, Accuracy: 79.86%\n",
            "\n"
          ]
        },
        {
          "output_type": "stream",
          "name": "stderr",
          "text": [
            "Epoch: 18 Loss: 0.8455 Acc: 75.05%: 100%|██████████| 782/782 [00:24<00:00, 31.92it/s]\n"
          ]
        },
        {
          "output_type": "stream",
          "name": "stdout",
          "text": [
            "\n",
            "Test set: Average loss: 0.5653, Accuracy: 80.74%\n",
            "\n"
          ]
        },
        {
          "output_type": "stream",
          "name": "stderr",
          "text": [
            "Epoch: 19 Loss: 0.4646 Acc: 75.76%: 100%|██████████| 782/782 [00:24<00:00, 31.79it/s]\n"
          ]
        },
        {
          "output_type": "stream",
          "name": "stdout",
          "text": [
            "\n",
            "Test set: Average loss: 0.5799, Accuracy: 79.79%\n",
            "\n"
          ]
        },
        {
          "output_type": "stream",
          "name": "stderr",
          "text": [
            "Epoch: 20 Loss: 1.2037 Acc: 76.09%: 100%|██████████| 782/782 [00:24<00:00, 31.77it/s]\n"
          ]
        },
        {
          "output_type": "stream",
          "name": "stdout",
          "text": [
            "\n",
            "Test set: Average loss: 0.5570, Accuracy: 81.46%\n",
            "\n"
          ]
        },
        {
          "output_type": "stream",
          "name": "stderr",
          "text": [
            "Epoch: 21 Loss: 0.6223 Acc: 76.38%: 100%|██████████| 782/782 [00:24<00:00, 31.60it/s]\n"
          ]
        },
        {
          "output_type": "stream",
          "name": "stdout",
          "text": [
            "\n",
            "Test set: Average loss: 0.5494, Accuracy: 81.39%\n",
            "\n"
          ]
        },
        {
          "output_type": "stream",
          "name": "stderr",
          "text": [
            "Epoch: 22 Loss: 0.7333 Acc: 76.99%: 100%|██████████| 782/782 [00:25<00:00, 31.06it/s]\n"
          ]
        },
        {
          "output_type": "stream",
          "name": "stdout",
          "text": [
            "\n",
            "Test set: Average loss: 0.5751, Accuracy: 80.10%\n",
            "\n"
          ]
        },
        {
          "output_type": "stream",
          "name": "stderr",
          "text": [
            "Epoch: 23 Loss: 0.6344 Acc: 77.19%: 100%|██████████| 782/782 [00:25<00:00, 30.56it/s]\n"
          ]
        },
        {
          "output_type": "stream",
          "name": "stdout",
          "text": [
            "\n",
            "Test set: Average loss: 0.5658, Accuracy: 80.53%\n",
            "\n"
          ]
        },
        {
          "output_type": "stream",
          "name": "stderr",
          "text": [
            "Epoch: 24 Loss: 0.2378 Acc: 77.30%: 100%|██████████| 782/782 [00:25<00:00, 30.41it/s]\n"
          ]
        },
        {
          "output_type": "stream",
          "name": "stdout",
          "text": [
            "\n",
            "Test set: Average loss: 0.5601, Accuracy: 81.17%\n",
            "\n"
          ]
        },
        {
          "output_type": "stream",
          "name": "stderr",
          "text": [
            "Epoch: 25 Loss: 0.5202 Acc: 77.74%: 100%|██████████| 782/782 [00:25<00:00, 30.44it/s]\n"
          ]
        },
        {
          "output_type": "stream",
          "name": "stdout",
          "text": [
            "\n",
            "Test set: Average loss: 0.5173, Accuracy: 82.54%\n",
            "\n"
          ]
        },
        {
          "output_type": "stream",
          "name": "stderr",
          "text": [
            "Epoch: 26 Loss: 0.8087 Acc: 77.99%: 100%|██████████| 782/782 [00:25<00:00, 30.57it/s]\n"
          ]
        },
        {
          "output_type": "stream",
          "name": "stdout",
          "text": [
            "\n",
            "Test set: Average loss: 0.5610, Accuracy: 81.26%\n",
            "\n"
          ]
        },
        {
          "output_type": "stream",
          "name": "stderr",
          "text": [
            "Epoch: 27 Loss: 0.3598 Acc: 78.22%: 100%|██████████| 782/782 [00:25<00:00, 30.63it/s]\n"
          ]
        },
        {
          "output_type": "stream",
          "name": "stdout",
          "text": [
            "\n",
            "Test set: Average loss: 0.5279, Accuracy: 82.30%\n",
            "\n"
          ]
        },
        {
          "output_type": "stream",
          "name": "stderr",
          "text": [
            "Epoch: 28 Loss: 0.3681 Acc: 78.18%: 100%|██████████| 782/782 [00:25<00:00, 30.50it/s]\n"
          ]
        },
        {
          "output_type": "stream",
          "name": "stdout",
          "text": [
            "\n",
            "Test set: Average loss: 0.5524, Accuracy: 81.67%\n",
            "\n"
          ]
        },
        {
          "output_type": "stream",
          "name": "stderr",
          "text": [
            "Epoch: 29 Loss: 0.8203 Acc: 78.88%: 100%|██████████| 782/782 [00:25<00:00, 30.27it/s]\n"
          ]
        },
        {
          "output_type": "stream",
          "name": "stdout",
          "text": [
            "\n",
            "Test set: Average loss: 0.5110, Accuracy: 82.94%\n",
            "\n"
          ]
        },
        {
          "output_type": "stream",
          "name": "stderr",
          "text": [
            "Epoch: 30 Loss: 0.3918 Acc: 79.10%: 100%|██████████| 782/782 [00:25<00:00, 30.41it/s]\n"
          ]
        },
        {
          "output_type": "stream",
          "name": "stdout",
          "text": [
            "\n",
            "Test set: Average loss: 0.5582, Accuracy: 81.17%\n",
            "\n"
          ]
        },
        {
          "output_type": "stream",
          "name": "stderr",
          "text": [
            "Epoch: 31 Loss: 0.7716 Acc: 81.89%: 100%|██████████| 782/782 [00:25<00:00, 31.14it/s]\n"
          ]
        },
        {
          "output_type": "stream",
          "name": "stdout",
          "text": [
            "\n",
            "Test set: Average loss: 0.4573, Accuracy: 84.75%\n",
            "\n"
          ]
        },
        {
          "output_type": "stream",
          "name": "stderr",
          "text": [
            "Epoch: 32 Loss: 0.5386 Acc: 82.39%: 100%|██████████| 782/782 [00:24<00:00, 31.80it/s]\n"
          ]
        },
        {
          "output_type": "stream",
          "name": "stdout",
          "text": [
            "\n",
            "Test set: Average loss: 0.4522, Accuracy: 84.80%\n",
            "\n"
          ]
        },
        {
          "output_type": "stream",
          "name": "stderr",
          "text": [
            "Epoch: 33 Loss: 0.4422 Acc: 82.51%: 100%|██████████| 782/782 [00:24<00:00, 31.92it/s]\n"
          ]
        },
        {
          "output_type": "stream",
          "name": "stdout",
          "text": [
            "\n",
            "Test set: Average loss: 0.4476, Accuracy: 84.98%\n",
            "\n"
          ]
        },
        {
          "output_type": "stream",
          "name": "stderr",
          "text": [
            "Epoch: 34 Loss: 0.6095 Acc: 82.94%: 100%|██████████| 782/782 [00:25<00:00, 31.28it/s]\n"
          ]
        },
        {
          "output_type": "stream",
          "name": "stdout",
          "text": [
            "\n",
            "Test set: Average loss: 0.4489, Accuracy: 85.19%\n",
            "\n",
            "Stopping early as accuracy reached 85.19% at epoch 34.\n"
          ]
        }
      ],
      "source": [
        "import torch\n",
        "import torch.nn as nn\n",
        "import torch.optim as optim\n",
        "from torchvision import datasets\n",
        "from torch.utils.data import Dataset, DataLoader\n",
        "from tqdm import tqdm\n",
        "from torch.cuda.amp import GradScaler, autocast  # For mixed precision\n",
        "\n",
        "from model import CIFAR10Net\n",
        "from albumentations_transform import AlbumentationsTransform\n",
        "\n",
        "class CIFAR10Dataset(Dataset):\n",
        "    def __init__(self, data, targets, transform=None, train=True):\n",
        "        self.data = data\n",
        "        self.targets = targets\n",
        "        self.transform = transform\n",
        "        self.train = train\n",
        "\n",
        "    def __getitem__(self, idx):\n",
        "        img = self.data[idx]\n",
        "        target = self.targets[idx]\n",
        "\n",
        "        if self.transform:\n",
        "            img = self.transform(img, self.train)\n",
        "\n",
        "        return img, target\n",
        "\n",
        "    def __len__(self):\n",
        "        return len(self.data)\n",
        "\n",
        "def train_one_epoch(model, device, train_loader, optimizer, criterion, epoch, scaler):\n",
        "    model.train()\n",
        "    pbar = tqdm(train_loader)\n",
        "    train_loss = 0\n",
        "    correct = 0\n",
        "    processed = 0\n",
        "\n",
        "    for batch_idx, (data, target) in enumerate(pbar):\n",
        "        data, target = data.to(device), target.to(device)\n",
        "        optimizer.zero_grad()\n",
        "\n",
        "        # Mixed precision: Use autocast for the forward pass\n",
        "        with autocast():\n",
        "            output = model(data)\n",
        "            loss = criterion(output, target)\n",
        "\n",
        "        # Backward pass with mixed precision scaling\n",
        "        scaler.scale(loss).backward()\n",
        "        scaler.step(optimizer)\n",
        "        scaler.update()  # Update the scale for the next iteration\n",
        "\n",
        "        train_loss += loss.item()\n",
        "        pred = output.argmax(dim=1, keepdim=True)\n",
        "        correct += pred.eq(target.view_as(pred)).sum().item()\n",
        "        processed += len(data)\n",
        "\n",
        "        pbar.set_description(f'Epoch: {epoch} Loss: {loss.item():.4f} Acc: {100*correct/processed:.2f}%')\n",
        "\n",
        "def test(model, device, test_loader, criterion):\n",
        "    model.eval()\n",
        "    test_loss = 0\n",
        "    correct = 0\n",
        "\n",
        "    with torch.no_grad():\n",
        "        for data, target in test_loader:\n",
        "            data, target = data.to(device), target.to(device)\n",
        "            output = model(data)\n",
        "            test_loss += criterion(output, target).item()\n",
        "            pred = output.argmax(dim=1, keepdim=True)\n",
        "            correct += pred.eq(target.view_as(pred)).sum().item()\n",
        "\n",
        "    test_loss /= len(test_loader)\n",
        "    accuracy = 100. * correct / len(test_loader.dataset)\n",
        "\n",
        "    print(f'\\nTest set: Average loss: {test_loss:.4f}, Accuracy: {accuracy:.2f}%\\n')\n",
        "    return accuracy\n",
        "\n",
        "def main():\n",
        "    SEED = 42\n",
        "    BATCH_SIZE = 64\n",
        "    EPOCHS = 300\n",
        "    DEVICE = torch.device(\"cuda\" if torch.cuda.is_available() else \"cpu\")\n",
        "\n",
        "    torch.manual_seed(SEED)\n",
        "\n",
        "    # Get transforms\n",
        "    transform = AlbumentationsTransform()\n",
        "\n",
        "    # Load CIFAR10\n",
        "    trainset = datasets.CIFAR10(root='./data', train=True, download=True)\n",
        "    testset = datasets.CIFAR10(root='./data', train=False, download=True)\n",
        "\n",
        "    # Create datasets\n",
        "    train_dataset = CIFAR10Dataset(trainset.data, trainset.targets, transform, train=True)\n",
        "    test_dataset = CIFAR10Dataset(testset.data, testset.targets, transform, train=False)\n",
        "\n",
        "    # Create dataloaders\n",
        "    train_loader = DataLoader(train_dataset, batch_size=BATCH_SIZE, shuffle=True, num_workers=2)\n",
        "    test_loader = DataLoader(test_dataset, batch_size=BATCH_SIZE, shuffle=False, num_workers=2)\n",
        "\n",
        "    # Initialize model, criterion, optimizer\n",
        "    model = CIFAR10Net().to(DEVICE)\n",
        "    criterion = nn.CrossEntropyLoss()\n",
        "    optimizer = optim.SGD(model.parameters(), lr=0.15, momentum=0.95)\n",
        "    scheduler = optim.lr_scheduler.StepLR(optimizer, step_size=30, gamma=0.05)  # StepLR scheduler\n",
        "\n",
        "    # Mixed precision: Initialize the scaler\n",
        "    scaler = GradScaler()\n",
        "\n",
        "    # Training loop\n",
        "    best_acc = 0\n",
        "    for epoch in range(1, EPOCHS + 1):\n",
        "        train_one_epoch(model, DEVICE, train_loader, optimizer, criterion, epoch, scaler)\n",
        "        acc = test(model, DEVICE, test_loader, criterion)\n",
        "        scheduler.step()  # Update the learning rate using StepLR scheduler\n",
        "\n",
        "        if acc > best_acc:\n",
        "            best_acc = acc\n",
        "            torch.save(model.state_dict(), 'best_model.pth')\n",
        "\n",
        "        # Stop training if accuracy reaches 85%\n",
        "        if acc >= 85.0:\n",
        "            print(f\"Stopping early as accuracy reached {acc:.2f}% at epoch {epoch}.\")\n",
        "            break\n",
        "\n",
        "if __name__ == '__main__':\n",
        "    main()\n"
      ]
    },
    {
      "cell_type": "code",
      "source": [],
      "metadata": {
        "id": "wTDdjtpidGH1"
      },
      "execution_count": null,
      "outputs": []
    }
  ]
}